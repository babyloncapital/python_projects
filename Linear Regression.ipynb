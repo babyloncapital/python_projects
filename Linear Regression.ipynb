{
 "cells": [
  {
   "cell_type": "markdown",
   "id": "93f3e83c",
   "metadata": {},
   "source": [
    "# Insurance Forecast by using Linear Regression"
   ]
  },
  {
   "cell_type": "markdown",
   "id": "8ba5da42",
   "metadata": {},
   "source": [
    "## Main objective"
   ]
  },
  {
   "cell_type": "markdown",
   "id": "dce59e6a",
   "metadata": {},
   "source": [
    "In this notebook we are going to create multiple linear regression models to try to predict the insurance fees charged by insurance companies to individuals according to some characteristics. Therefore, our goal here is prediction."
   ]
  },
  {
   "cell_type": "markdown",
   "id": "6d938e62",
   "metadata": {},
   "source": [
    "## Dataset"
   ]
  },
  {
   "cell_type": "markdown",
   "id": "d19435b6",
   "metadata": {},
   "source": [
    "The dataset contains the records of more than 1,000 individuals and, besides the fees charged to each of them, we can fine several other characteristics like: Age, Sex, BMI (Body mass index), Number of children covered by health insurance / Number of dependents, Smoker/Not Smoker and region where the individual comes from."
   ]
  },
  {
   "cell_type": "markdown",
   "id": "094dcd7b",
   "metadata": {},
   "source": [
    "## Data Exploration"
   ]
  },
  {
   "cell_type": "code",
   "execution_count": 63,
   "id": "c87c17ef",
   "metadata": {},
   "outputs": [],
   "source": [
    "#Let's import some libraries\n",
    "import numpy as np\n",
    "import pandas as pd\n",
    "import matplotlib.pyplot as plt\n",
    "%matplotlib inline\n",
    "import seaborn as sns\n",
    "sns.set()\n",
    "\n",
    "from scipy import stats \n",
    "from scipy.stats import chi2_contingency\n",
    "from scipy.stats import norm\n",
    "from scipy.stats.mstats import normaltest\n",
    "import math\n",
    "import warnings\n",
    "\n",
    "warnings.filterwarnings( \"ignore\" )\n",
    "\n",
    "from sklearn.preprocessing import StandardScaler, PolynomialFeatures\n",
    "from sklearn.model_selection import KFold, cross_val_predict\n",
    "from sklearn.linear_model import LinearRegression, Lasso, Ridge\n",
    "from sklearn.metrics import r2_score\n",
    "from sklearn.pipeline import Pipeline"
   ]
  },
  {
   "cell_type": "code",
   "execution_count": 64,
   "id": "8f4d40f0",
   "metadata": {},
   "outputs": [
    {
     "data": {
      "text/html": [
       "<div>\n",
       "<style scoped>\n",
       "    .dataframe tbody tr th:only-of-type {\n",
       "        vertical-align: middle;\n",
       "    }\n",
       "\n",
       "    .dataframe tbody tr th {\n",
       "        vertical-align: top;\n",
       "    }\n",
       "\n",
       "    .dataframe thead th {\n",
       "        text-align: right;\n",
       "    }\n",
       "</style>\n",
       "<table border=\"1\" class=\"dataframe\">\n",
       "  <thead>\n",
       "    <tr style=\"text-align: right;\">\n",
       "      <th></th>\n",
       "      <th>age</th>\n",
       "      <th>sex</th>\n",
       "      <th>bmi</th>\n",
       "      <th>children</th>\n",
       "      <th>smoker</th>\n",
       "      <th>region</th>\n",
       "      <th>charges</th>\n",
       "    </tr>\n",
       "  </thead>\n",
       "  <tbody>\n",
       "    <tr>\n",
       "      <th>0</th>\n",
       "      <td>19</td>\n",
       "      <td>female</td>\n",
       "      <td>27.900</td>\n",
       "      <td>0</td>\n",
       "      <td>yes</td>\n",
       "      <td>southwest</td>\n",
       "      <td>16884.92400</td>\n",
       "    </tr>\n",
       "    <tr>\n",
       "      <th>1</th>\n",
       "      <td>18</td>\n",
       "      <td>male</td>\n",
       "      <td>33.770</td>\n",
       "      <td>1</td>\n",
       "      <td>no</td>\n",
       "      <td>southeast</td>\n",
       "      <td>1725.55230</td>\n",
       "    </tr>\n",
       "    <tr>\n",
       "      <th>2</th>\n",
       "      <td>28</td>\n",
       "      <td>male</td>\n",
       "      <td>33.000</td>\n",
       "      <td>3</td>\n",
       "      <td>no</td>\n",
       "      <td>southeast</td>\n",
       "      <td>4449.46200</td>\n",
       "    </tr>\n",
       "    <tr>\n",
       "      <th>3</th>\n",
       "      <td>33</td>\n",
       "      <td>male</td>\n",
       "      <td>22.705</td>\n",
       "      <td>0</td>\n",
       "      <td>no</td>\n",
       "      <td>northwest</td>\n",
       "      <td>21984.47061</td>\n",
       "    </tr>\n",
       "    <tr>\n",
       "      <th>4</th>\n",
       "      <td>32</td>\n",
       "      <td>male</td>\n",
       "      <td>28.880</td>\n",
       "      <td>0</td>\n",
       "      <td>no</td>\n",
       "      <td>northwest</td>\n",
       "      <td>3866.85520</td>\n",
       "    </tr>\n",
       "  </tbody>\n",
       "</table>\n",
       "</div>"
      ],
      "text/plain": [
       "   age     sex     bmi  children smoker     region      charges\n",
       "0   19  female  27.900         0    yes  southwest  16884.92400\n",
       "1   18    male  33.770         1     no  southeast   1725.55230\n",
       "2   28    male  33.000         3     no  southeast   4449.46200\n",
       "3   33    male  22.705         0     no  northwest  21984.47061\n",
       "4   32    male  28.880         0     no  northwest   3866.85520"
      ]
     },
     "execution_count": 64,
     "metadata": {},
     "output_type": "execute_result"
    }
   ],
   "source": [
    "#Uploading data in a DataFrame\n",
    "data = pd.read_csv('/Users/lucadonghi/Desktop/IBM Machine Learning/Regression/insurance.csv')\n",
    "data.head()"
   ]
  },
  {
   "cell_type": "code",
   "execution_count": 65,
   "id": "0c83093a",
   "metadata": {},
   "outputs": [
    {
     "data": {
      "text/plain": [
       "(1338, 7)"
      ]
     },
     "execution_count": 65,
     "metadata": {},
     "output_type": "execute_result"
    }
   ],
   "source": [
    "#Let's start with some data exploration\n",
    "data.shape"
   ]
  },
  {
   "cell_type": "code",
   "execution_count": 66,
   "id": "0b507674",
   "metadata": {},
   "outputs": [
    {
     "name": "stdout",
     "output_type": "stream",
     "text": [
      "<class 'pandas.core.frame.DataFrame'>\n",
      "RangeIndex: 1338 entries, 0 to 1337\n",
      "Data columns (total 7 columns):\n",
      " #   Column    Non-Null Count  Dtype  \n",
      "---  ------    --------------  -----  \n",
      " 0   age       1338 non-null   int64  \n",
      " 1   sex       1338 non-null   object \n",
      " 2   bmi       1338 non-null   float64\n",
      " 3   children  1338 non-null   int64  \n",
      " 4   smoker    1338 non-null   object \n",
      " 5   region    1338 non-null   object \n",
      " 6   charges   1338 non-null   float64\n",
      "dtypes: float64(2), int64(2), object(3)\n",
      "memory usage: 73.3+ KB\n"
     ]
    }
   ],
   "source": [
    "data.info()"
   ]
  },
  {
   "cell_type": "markdown",
   "id": "881aa7a8",
   "metadata": {},
   "source": [
    "We note from the above info that we may need to transform some \"object\" data types (i.e. sex, smoker, region) into int64 with one-hot-encoding in order to perform linear regression"
   ]
  },
  {
   "cell_type": "code",
   "execution_count": 67,
   "id": "994765c1",
   "metadata": {},
   "outputs": [
    {
     "data": {
      "text/html": [
       "<div>\n",
       "<style scoped>\n",
       "    .dataframe tbody tr th:only-of-type {\n",
       "        vertical-align: middle;\n",
       "    }\n",
       "\n",
       "    .dataframe tbody tr th {\n",
       "        vertical-align: top;\n",
       "    }\n",
       "\n",
       "    .dataframe thead th {\n",
       "        text-align: right;\n",
       "    }\n",
       "</style>\n",
       "<table border=\"1\" class=\"dataframe\">\n",
       "  <thead>\n",
       "    <tr style=\"text-align: right;\">\n",
       "      <th></th>\n",
       "      <th>age</th>\n",
       "      <th>bmi</th>\n",
       "      <th>children</th>\n",
       "      <th>charges</th>\n",
       "    </tr>\n",
       "  </thead>\n",
       "  <tbody>\n",
       "    <tr>\n",
       "      <th>count</th>\n",
       "      <td>1338.000000</td>\n",
       "      <td>1338.000000</td>\n",
       "      <td>1338.000000</td>\n",
       "      <td>1338.000000</td>\n",
       "    </tr>\n",
       "    <tr>\n",
       "      <th>mean</th>\n",
       "      <td>39.207025</td>\n",
       "      <td>30.663397</td>\n",
       "      <td>1.094918</td>\n",
       "      <td>13270.422265</td>\n",
       "    </tr>\n",
       "    <tr>\n",
       "      <th>std</th>\n",
       "      <td>14.049960</td>\n",
       "      <td>6.098187</td>\n",
       "      <td>1.205493</td>\n",
       "      <td>12110.011237</td>\n",
       "    </tr>\n",
       "    <tr>\n",
       "      <th>min</th>\n",
       "      <td>18.000000</td>\n",
       "      <td>15.960000</td>\n",
       "      <td>0.000000</td>\n",
       "      <td>1121.873900</td>\n",
       "    </tr>\n",
       "    <tr>\n",
       "      <th>25%</th>\n",
       "      <td>27.000000</td>\n",
       "      <td>26.296250</td>\n",
       "      <td>0.000000</td>\n",
       "      <td>4740.287150</td>\n",
       "    </tr>\n",
       "    <tr>\n",
       "      <th>50%</th>\n",
       "      <td>39.000000</td>\n",
       "      <td>30.400000</td>\n",
       "      <td>1.000000</td>\n",
       "      <td>9382.033000</td>\n",
       "    </tr>\n",
       "    <tr>\n",
       "      <th>75%</th>\n",
       "      <td>51.000000</td>\n",
       "      <td>34.693750</td>\n",
       "      <td>2.000000</td>\n",
       "      <td>16639.912515</td>\n",
       "    </tr>\n",
       "    <tr>\n",
       "      <th>max</th>\n",
       "      <td>64.000000</td>\n",
       "      <td>53.130000</td>\n",
       "      <td>5.000000</td>\n",
       "      <td>63770.428010</td>\n",
       "    </tr>\n",
       "  </tbody>\n",
       "</table>\n",
       "</div>"
      ],
      "text/plain": [
       "               age          bmi     children       charges\n",
       "count  1338.000000  1338.000000  1338.000000   1338.000000\n",
       "mean     39.207025    30.663397     1.094918  13270.422265\n",
       "std      14.049960     6.098187     1.205493  12110.011237\n",
       "min      18.000000    15.960000     0.000000   1121.873900\n",
       "25%      27.000000    26.296250     0.000000   4740.287150\n",
       "50%      39.000000    30.400000     1.000000   9382.033000\n",
       "75%      51.000000    34.693750     2.000000  16639.912515\n",
       "max      64.000000    53.130000     5.000000  63770.428010"
      ]
     },
     "execution_count": 67,
     "metadata": {},
     "output_type": "execute_result"
    }
   ],
   "source": [
    "data.describe()"
   ]
  },
  {
   "cell_type": "code",
   "execution_count": 68,
   "id": "c4fb3b30",
   "metadata": {},
   "outputs": [
    {
     "data": {
      "image/png": "[encoded data removed]",
      "text/plain": [
       "<Figure size 432x288 with 1 Axes>"
      ]
     },
     "metadata": {},
     "output_type": "display_data"
    }
   ],
   "source": [
    "#Plotting a histogram of age\n",
    "ax = plt.axes()\n",
    "ax.hist(data['age'], bins=10);\n",
    "\n",
    "ax.set(xlabel='Age', \n",
    "       ylabel='Frequency',\n",
    "       title='Distribution of Age');"
   ]
  },
  {
   "cell_type": "markdown",
   "id": "20bfe9dc",
   "metadata": {},
   "source": [
    "The \"Age\" variable distribution does not seem to be normal, so we may need to transform it using logs or other techniques."
   ]
  },
  {
   "cell_type": "code",
   "execution_count": 69,
   "id": "809c0ea7",
   "metadata": {},
   "outputs": [
    {
     "data": {
      "text/plain": [
       "NormaltestResult(statistic=1557.8205812363667, pvalue=0.0)"
      ]
     },
     "execution_count": 69,
     "metadata": {},
     "output_type": "execute_result"
    }
   ],
   "source": [
    "normaltest(data.age.values)"
   ]
  },
  {
   "cell_type": "markdown",
   "id": "d959be5a",
   "metadata": {},
   "source": [
    "The test confirms that the variable \"age\" is not normally distributed."
   ]
  },
  {
   "cell_type": "code",
   "execution_count": 70,
   "id": "11969168",
   "metadata": {},
   "outputs": [
    {
     "data": {
      "image/png": "[encoded data removed]",
      "text/plain": [
       "<Figure size 432x288 with 1 Axes>"
      ]
     },
     "metadata": {},
     "output_type": "display_data"
    }
   ],
   "source": [
    "#Plotting a histogram of bmi\n",
    "ax = plt.axes()\n",
    "ax.hist(data['bmi'], bins=10);\n",
    "\n",
    "ax.set(xlabel='BMI', \n",
    "       ylabel='Frequency',\n",
    "       title='Distribution of BMI');"
   ]
  },
  {
   "cell_type": "code",
   "execution_count": 71,
   "id": "4f4f9f58",
   "metadata": {},
   "outputs": [
    {
     "data": {
      "text/plain": [
       "NormaltestResult(statistic=17.581447872784118, pvalue=0.0001521377897266011)"
      ]
     },
     "execution_count": 71,
     "metadata": {},
     "output_type": "execute_result"
    }
   ],
   "source": [
    "normaltest(data.bmi.values)"
   ]
  },
  {
   "cell_type": "markdown",
   "id": "db342971",
   "metadata": {},
   "source": [
    "The same goes for BMI variable"
   ]
  },
  {
   "cell_type": "code",
   "execution_count": 72,
   "id": "abf031fe",
   "metadata": {},
   "outputs": [
    {
     "data": {
      "image/png": "[encoded data removed]",
      "text/plain": [
       "<Figure size 432x288 with 1 Axes>"
      ]
     },
     "metadata": {},
     "output_type": "display_data"
    }
   ],
   "source": [
    "#Plotting a histogram of charges\n",
    "ax = plt.axes()\n",
    "ax.hist(data['charges'], bins=10);\n",
    "\n",
    "ax.set(xlabel='Charges', \n",
    "       ylabel='Frequency',\n",
    "       title='Distribution of Charges');"
   ]
  },
  {
   "cell_type": "code",
   "execution_count": 73,
   "id": "114a07d1",
   "metadata": {},
   "outputs": [
    {
     "data": {
      "text/plain": [
       "NormaltestResult(statistic=336.8851220567733, pvalue=7.019807901276197e-74)"
      ]
     },
     "execution_count": 73,
     "metadata": {},
     "output_type": "execute_result"
    }
   ],
   "source": [
    "normaltest(data.charges.values)"
   ]
  },
  {
   "cell_type": "markdown",
   "id": "ec584593",
   "metadata": {},
   "source": [
    "Definetely not normally distributed"
   ]
  },
  {
   "cell_type": "code",
   "execution_count": 74,
   "id": "9bbfda9f",
   "metadata": {},
   "outputs": [
    {
     "data": {
      "image/png": "[encoded data removed]",
      "text/plain": [
       "<Figure size 432x288 with 1 Axes>"
      ]
     },
     "metadata": {},
     "output_type": "display_data"
    }
   ],
   "source": [
    "#Plotting a scatterplot of Charges vs Age\n",
    "ax = plt.axes()\n",
    "ax.scatter(data['age'], data['charges'])\n",
    "ax.set(xlabel='Age',\n",
    "       ylabel='Charges',\n",
    "       title='Age vs Charges');"
   ]
  },
  {
   "cell_type": "code",
   "execution_count": 75,
   "id": "0b699b56",
   "metadata": {},
   "outputs": [
    {
     "data": {
      "image/png": "[encoded data removed]",
      "text/plain": [
       "<Figure size 432x288 with 1 Axes>"
      ]
     },
     "metadata": {},
     "output_type": "display_data"
    }
   ],
   "source": [
    "#Plotting a scatterplot of Charges vs Age\n",
    "ax = plt.axes()\n",
    "ax.scatter(data['bmi'], data['charges'])\n",
    "ax.set(xlabel='BMI',\n",
    "       ylabel='Charges',\n",
    "       title='BMI vs Charges');"
   ]
  },
  {
   "cell_type": "markdown",
   "id": "cf92f85a",
   "metadata": {},
   "source": [
    "From the scatterplots above we can see that there is not a linear relationship between features and the target variable, so some transformation would be required."
   ]
  },
  {
   "cell_type": "code",
   "execution_count": 76,
   "id": "ff382885",
   "metadata": {},
   "outputs": [],
   "source": [
    "from scipy.stats import boxcox\n",
    "\n",
    "bc_age = boxcox(data.age)\n",
    "bc_bmi = boxcox(data.bmi)\n",
    "bc_charges = boxcox(data.charges)"
   ]
  },
  {
   "cell_type": "code",
   "execution_count": 77,
   "id": "8b1cf826",
   "metadata": {},
   "outputs": [
    {
     "data": {
      "image/png": "[encoded data removed]",
      "text/plain": [
       "<Figure size 432x288 with 1 Axes>"
      ]
     },
     "metadata": {},
     "output_type": "display_data"
    }
   ],
   "source": [
    "#Plotting a histogram of bc_age\n",
    "ax = plt.axes()\n",
    "ax.hist(bc_age, bins=10);\n",
    "\n",
    "ax.set(xlabel='BC_Age', \n",
    "       ylabel='Frequency',\n",
    "       title='Distribution of BC_Age');"
   ]
  },
  {
   "cell_type": "code",
   "execution_count": 78,
   "id": "27b5fc2d",
   "metadata": {},
   "outputs": [
    {
     "data": {
      "image/png": "[encoded data removed]",
      "text/plain": [
       "<Figure size 432x288 with 1 Axes>"
      ]
     },
     "metadata": {},
     "output_type": "display_data"
    }
   ],
   "source": [
    "#Plotting a histogram of bc_bmi\n",
    "ax = plt.axes()\n",
    "ax.hist(bc_bmi, bins=10);\n",
    "\n",
    "ax.set(xlabel='BC_BMI', \n",
    "       ylabel='Frequency',\n",
    "       title='Distribution of BC_BMI');"
   ]
  },
  {
   "cell_type": "code",
   "execution_count": 79,
   "id": "226bd1ce",
   "metadata": {},
   "outputs": [
    {
     "data": {
      "image/png": "[encoded data removed]",
      "text/plain": [
       "<Figure size 432x288 with 1 Axes>"
      ]
     },
     "metadata": {},
     "output_type": "display_data"
    }
   ],
   "source": [
    "#Plotting a histogram of bc_charges\n",
    "ax = plt.axes()\n",
    "ax.hist(bc_charges, bins=10);\n",
    "\n",
    "ax.set(xlabel='BC_charges', \n",
    "       ylabel='Frequency',\n",
    "       title='Distribution of BC_charges');"
   ]
  },
  {
   "cell_type": "markdown",
   "id": "a759295c",
   "metadata": {},
   "source": [
    "## Feature Engineering"
   ]
  },
  {
   "cell_type": "code",
   "execution_count": 80,
   "id": "59ecaecb",
   "metadata": {},
   "outputs": [],
   "source": [
    "#Let's make a copy of the data before moving on with feature engineering\n",
    "df = data.copy()"
   ]
  },
  {
   "cell_type": "markdown",
   "id": "5edbf2ce",
   "metadata": {},
   "source": [
    "Let's one-hot-encode categorical variables"
   ]
  },
  {
   "cell_type": "code",
   "execution_count": 81,
   "id": "e2ca0c73",
   "metadata": {},
   "outputs": [],
   "source": [
    "# Get a Pd.Series consisting of all the string categoricals\n",
    "one_hot_encode_cols = df.dtypes[df.dtypes == np.object]  # filtering by string categoricals\n",
    "one_hot_encode_cols = one_hot_encode_cols.index.tolist()  # list of categorical fields\n",
    "\n",
    "# Here we see another way of one-hot-encoding:\n",
    "# Encode these columns as categoricals so one hot encoding works on split data (if desired)\n",
    "for col in one_hot_encode_cols:\n",
    "    df[col] = pd.Categorical(df[col])\n",
    "\n",
    "# Do the one hot encoding\n",
    "df = pd.get_dummies(df, columns=one_hot_encode_cols)"
   ]
  },
  {
   "cell_type": "code",
   "execution_count": 82,
   "id": "0a0419f1",
   "metadata": {},
   "outputs": [
    {
     "data": {
      "text/html": [
       "<div>\n",
       "<style scoped>\n",
       "    .dataframe tbody tr th:only-of-type {\n",
       "        vertical-align: middle;\n",
       "    }\n",
       "\n",
       "    .dataframe tbody tr th {\n",
       "        vertical-align: top;\n",
       "    }\n",
       "\n",
       "    .dataframe thead th {\n",
       "        text-align: right;\n",
       "    }\n",
       "</style>\n",
       "<table border=\"1\" class=\"dataframe\">\n",
       "  <thead>\n",
       "    <tr style=\"text-align: right;\">\n",
       "      <th></th>\n",
       "      <th>age</th>\n",
       "      <th>bmi</th>\n",
       "      <th>children</th>\n",
       "      <th>charges</th>\n",
       "      <th>sex_female</th>\n",
       "      <th>sex_male</th>\n",
       "      <th>smoker_no</th>\n",
       "      <th>smoker_yes</th>\n",
       "      <th>region_northeast</th>\n",
       "      <th>region_northwest</th>\n",
       "      <th>region_southeast</th>\n",
       "      <th>region_southwest</th>\n",
       "    </tr>\n",
       "  </thead>\n",
       "  <tbody>\n",
       "    <tr>\n",
       "      <th>0</th>\n",
       "      <td>19</td>\n",
       "      <td>27.900</td>\n",
       "      <td>0</td>\n",
       "      <td>16884.92400</td>\n",
       "      <td>1</td>\n",
       "      <td>0</td>\n",
       "      <td>0</td>\n",
       "      <td>1</td>\n",
       "      <td>0</td>\n",
       "      <td>0</td>\n",
       "      <td>0</td>\n",
       "      <td>1</td>\n",
       "    </tr>\n",
       "    <tr>\n",
       "      <th>1</th>\n",
       "      <td>18</td>\n",
       "      <td>33.770</td>\n",
       "      <td>1</td>\n",
       "      <td>1725.55230</td>\n",
       "      <td>0</td>\n",
       "      <td>1</td>\n",
       "      <td>1</td>\n",
       "      <td>0</td>\n",
       "      <td>0</td>\n",
       "      <td>0</td>\n",
       "      <td>1</td>\n",
       "      <td>0</td>\n",
       "    </tr>\n",
       "    <tr>\n",
       "      <th>2</th>\n",
       "      <td>28</td>\n",
       "      <td>33.000</td>\n",
       "      <td>3</td>\n",
       "      <td>4449.46200</td>\n",
       "      <td>0</td>\n",
       "      <td>1</td>\n",
       "      <td>1</td>\n",
       "      <td>0</td>\n",
       "      <td>0</td>\n",
       "      <td>0</td>\n",
       "      <td>1</td>\n",
       "      <td>0</td>\n",
       "    </tr>\n",
       "    <tr>\n",
       "      <th>3</th>\n",
       "      <td>33</td>\n",
       "      <td>22.705</td>\n",
       "      <td>0</td>\n",
       "      <td>21984.47061</td>\n",
       "      <td>0</td>\n",
       "      <td>1</td>\n",
       "      <td>1</td>\n",
       "      <td>0</td>\n",
       "      <td>0</td>\n",
       "      <td>1</td>\n",
       "      <td>0</td>\n",
       "      <td>0</td>\n",
       "    </tr>\n",
       "    <tr>\n",
       "      <th>4</th>\n",
       "      <td>32</td>\n",
       "      <td>28.880</td>\n",
       "      <td>0</td>\n",
       "      <td>3866.85520</td>\n",
       "      <td>0</td>\n",
       "      <td>1</td>\n",
       "      <td>1</td>\n",
       "      <td>0</td>\n",
       "      <td>0</td>\n",
       "      <td>1</td>\n",
       "      <td>0</td>\n",
       "      <td>0</td>\n",
       "    </tr>\n",
       "  </tbody>\n",
       "</table>\n",
       "</div>"
      ],
      "text/plain": [
       "   age     bmi  children      charges  sex_female  sex_male  smoker_no  \\\n",
       "0   19  27.900         0  16884.92400           1         0          0   \n",
       "1   18  33.770         1   1725.55230           0         1          1   \n",
       "2   28  33.000         3   4449.46200           0         1          1   \n",
       "3   33  22.705         0  21984.47061           0         1          1   \n",
       "4   32  28.880         0   3866.85520           0         1          1   \n",
       "\n",
       "   smoker_yes  region_northeast  region_northwest  region_southeast  \\\n",
       "0           1                 0                 0                 0   \n",
       "1           0                 0                 0                 1   \n",
       "2           0                 0                 0                 1   \n",
       "3           0                 0                 1                 0   \n",
       "4           0                 0                 1                 0   \n",
       "\n",
       "   region_southwest  \n",
       "0                 1  \n",
       "1                 0  \n",
       "2                 0  \n",
       "3                 0  \n",
       "4                 0  "
      ]
     },
     "execution_count": 82,
     "metadata": {},
     "output_type": "execute_result"
    }
   ],
   "source": [
    "df.head()"
   ]
  },
  {
   "cell_type": "markdown",
   "id": "eb348746",
   "metadata": {},
   "source": [
    "## Linear Regression"
   ]
  },
  {
   "cell_type": "code",
   "execution_count": 83,
   "id": "adc57908",
   "metadata": {},
   "outputs": [],
   "source": [
    "#Generate X and y\n",
    "y_col = 'charges'\n",
    "\n",
    "X = df.drop(y_col, axis=1)\n",
    "y = df[y_col]"
   ]
  },
  {
   "cell_type": "markdown",
   "id": "be599d4f",
   "metadata": {},
   "source": [
    "Next, split the data in train and test data sets"
   ]
  },
  {
   "cell_type": "code",
   "execution_count": 84,
   "id": "bce9269f",
   "metadata": {},
   "outputs": [],
   "source": [
    "from sklearn.model_selection import train_test_split\n",
    "\n",
    "X_train, X_test, y_train, y_test = train_test_split(X, y, test_size=0.3, \n",
    "                                                    random_state=72018)"
   ]
  },
  {
   "cell_type": "code",
   "execution_count": 85,
   "id": "15573c4d",
   "metadata": {},
   "outputs": [],
   "source": [
    "s = StandardScaler()"
   ]
  },
  {
   "cell_type": "code",
   "execution_count": 86,
   "id": "05bc0f16",
   "metadata": {},
   "outputs": [],
   "source": [
    "X_train_ss = s.fit_transform(X_train)"
   ]
  },
  {
   "cell_type": "code",
   "execution_count": 87,
   "id": "00d73fc8",
   "metadata": {},
   "outputs": [],
   "source": [
    "X_test_ss = s.transform(X_test)"
   ]
  },
  {
   "cell_type": "code",
   "execution_count": 88,
   "id": "d240f19c",
   "metadata": {},
   "outputs": [],
   "source": [
    "linearRegression = LinearRegression().fit(X_train_ss, y_train)"
   ]
  },
  {
   "cell_type": "code",
   "execution_count": 89,
   "id": "b24d7372",
   "metadata": {},
   "outputs": [],
   "source": [
    "from sklearn.metrics import mean_squared_error\n",
    "\n",
    "def rmse(ytrue, ypredicted):\n",
    "    return np.sqrt(mean_squared_error(ytrue, ypredicted))"
   ]
  },
  {
   "cell_type": "code",
   "execution_count": 90,
   "id": "112fdeb3",
   "metadata": {},
   "outputs": [
    {
     "name": "stdout",
     "output_type": "stream",
     "text": [
      "6137.488980585649\n"
     ]
    }
   ],
   "source": [
    "linearRegression_rmse = rmse(y_test, linearRegression.predict(X_test_ss))\n",
    "\n",
    "print(linearRegression_rmse)"
   ]
  },
  {
   "cell_type": "code",
   "execution_count": 91,
   "id": "cfb0e80b",
   "metadata": {},
   "outputs": [
    {
     "data": {
      "image/png": "[encoded data removed]",
      "text/plain": [
       "<Figure size 432x432 with 1 Axes>"
      ]
     },
     "metadata": {},
     "output_type": "display_data"
    }
   ],
   "source": [
    "f = plt.figure(figsize=(6,6))\n",
    "ax = plt.axes()\n",
    "\n",
    "ax.plot(y_test, linearRegression.predict(X_test_ss), \n",
    "         marker='o', ls='', ms=3.0)\n",
    "\n",
    "lim = (0, y_test.max())\n",
    "\n",
    "ax.set(xlabel='Actual Charge', \n",
    "       ylabel='Predicted Charge', \n",
    "       xlim=lim,\n",
    "       ylim=lim,\n",
    "       title='Linear Regression Results');"
   ]
  },
  {
   "cell_type": "code",
   "execution_count": 92,
   "id": "6826298d",
   "metadata": {},
   "outputs": [
    {
     "data": {
      "text/plain": [
       "0.6408275118855773"
      ]
     },
     "execution_count": 92,
     "metadata": {},
     "output_type": "execute_result"
    }
   ],
   "source": [
    "y_pred_s = linearRegression.predict(X_test_ss)\n",
    "r2_score(y_pred_s, y_test)"
   ]
  },
  {
   "cell_type": "code",
   "execution_count": 93,
   "id": "4736b88f",
   "metadata": {},
   "outputs": [
    {
     "data": {
      "text/html": [
       "<div>\n",
       "<style scoped>\n",
       "    .dataframe tbody tr th:only-of-type {\n",
       "        vertical-align: middle;\n",
       "    }\n",
       "\n",
       "    .dataframe tbody tr th {\n",
       "        vertical-align: top;\n",
       "    }\n",
       "\n",
       "    .dataframe thead th {\n",
       "        text-align: right;\n",
       "    }\n",
       "</style>\n",
       "<table border=\"1\" class=\"dataframe\">\n",
       "  <thead>\n",
       "    <tr style=\"text-align: right;\">\n",
       "      <th></th>\n",
       "      <th>0</th>\n",
       "      <th>1</th>\n",
       "    </tr>\n",
       "  </thead>\n",
       "  <tbody>\n",
       "    <tr>\n",
       "      <th>3</th>\n",
       "      <td>sex_female</td>\n",
       "      <td>-1.043923e+17</td>\n",
       "    </tr>\n",
       "    <tr>\n",
       "      <th>4</th>\n",
       "      <td>sex_male</td>\n",
       "      <td>-1.043923e+17</td>\n",
       "    </tr>\n",
       "    <tr>\n",
       "      <th>2</th>\n",
       "      <td>children</td>\n",
       "      <td>6.033483e+02</td>\n",
       "    </tr>\n",
       "    <tr>\n",
       "      <th>1</th>\n",
       "      <td>bmi</td>\n",
       "      <td>2.051667e+03</td>\n",
       "    </tr>\n",
       "    <tr>\n",
       "      <th>0</th>\n",
       "      <td>age</td>\n",
       "      <td>3.651834e+03</td>\n",
       "    </tr>\n",
       "    <tr>\n",
       "      <th>5</th>\n",
       "      <td>smoker_no</td>\n",
       "      <td>4.500359e+16</td>\n",
       "    </tr>\n",
       "    <tr>\n",
       "      <th>6</th>\n",
       "      <td>smoker_yes</td>\n",
       "      <td>4.500359e+16</td>\n",
       "    </tr>\n",
       "    <tr>\n",
       "      <th>7</th>\n",
       "      <td>region_northeast</td>\n",
       "      <td>2.902820e+17</td>\n",
       "    </tr>\n",
       "    <tr>\n",
       "      <th>8</th>\n",
       "      <td>region_northwest</td>\n",
       "      <td>2.916031e+17</td>\n",
       "    </tr>\n",
       "    <tr>\n",
       "      <th>10</th>\n",
       "      <td>region_southwest</td>\n",
       "      <td>2.941790e+17</td>\n",
       "    </tr>\n",
       "    <tr>\n",
       "      <th>9</th>\n",
       "      <td>region_southeast</td>\n",
       "      <td>3.017758e+17</td>\n",
       "    </tr>\n",
       "  </tbody>\n",
       "</table>\n",
       "</div>"
      ],
      "text/plain": [
       "                   0             1\n",
       "3         sex_female -1.043923e+17\n",
       "4           sex_male -1.043923e+17\n",
       "2           children  6.033483e+02\n",
       "1                bmi  2.051667e+03\n",
       "0                age  3.651834e+03\n",
       "5          smoker_no  4.500359e+16\n",
       "6         smoker_yes  4.500359e+16\n",
       "7   region_northeast  2.902820e+17\n",
       "8   region_northwest  2.916031e+17\n",
       "10  region_southwest  2.941790e+17\n",
       "9   region_southeast  3.017758e+17"
      ]
     },
     "execution_count": 93,
     "metadata": {},
     "output_type": "execute_result"
    }
   ],
   "source": [
    "pd.DataFrame(zip(X.columns, linearRegression.coef_)).sort_values(by=1)"
   ]
  },
  {
   "cell_type": "markdown",
   "id": "f8b665de",
   "metadata": {},
   "source": [
    "## Linear Regression with cross validation"
   ]
  },
  {
   "cell_type": "code",
   "execution_count": 94,
   "id": "acc61b1a",
   "metadata": {},
   "outputs": [],
   "source": [
    "kf = KFold(shuffle=True, random_state=72018, n_splits=3)"
   ]
  },
  {
   "cell_type": "code",
   "execution_count": 95,
   "id": "1c6dd965",
   "metadata": {},
   "outputs": [],
   "source": [
    "#Defining an estimator\n",
    "lr = LinearRegression()\n",
    "\n",
    "estimator = Pipeline([(\"scaler\", s),\n",
    "                      (\"regression\", lr)])"
   ]
  },
  {
   "cell_type": "code",
   "execution_count": 96,
   "id": "a517ea07",
   "metadata": {},
   "outputs": [],
   "source": [
    "predictions = cross_val_predict(estimator, X, y, cv=kf)"
   ]
  },
  {
   "cell_type": "code",
   "execution_count": 97,
   "id": "be73a983",
   "metadata": {},
   "outputs": [
    {
     "data": {
      "text/plain": [
       "0.7484137440360916"
      ]
     },
     "execution_count": 97,
     "metadata": {},
     "output_type": "execute_result"
    }
   ],
   "source": [
    "r2_score(y, predictions)"
   ]
  },
  {
   "cell_type": "markdown",
   "id": "a1deb2a9",
   "metadata": {},
   "source": [
    "## Polynomial Transformation with cross validation"
   ]
  },
  {
   "cell_type": "code",
   "execution_count": 98,
   "id": "9d33a894",
   "metadata": {},
   "outputs": [],
   "source": [
    "from sklearn.model_selection import GridSearchCV\n",
    "\n",
    "# Same estimator as before\n",
    "estimator_pf = Pipeline([(\"scaler\", StandardScaler()), #Here we are putting scaler first, but it's generally best to place it after pf\n",
    "        (\"polynomial_features\", PolynomialFeatures()),\n",
    "        (\"linear_regression\", LinearRegression())])\n",
    "\n",
    "params_pf = {\n",
    "    'polynomial_features__degree': [1, 2, 3]\n",
    "}\n",
    "\n",
    "grid_pf = GridSearchCV(estimator_pf, params_pf, cv=kf)"
   ]
  },
  {
   "cell_type": "code",
   "execution_count": 99,
   "id": "77ef3291",
   "metadata": {},
   "outputs": [
    {
     "data": {
      "text/plain": [
       "GridSearchCV(cv=KFold(n_splits=3, random_state=72018, shuffle=True),\n",
       "             estimator=Pipeline(steps=[('scaler', StandardScaler()),\n",
       "                                       ('polynomial_features',\n",
       "                                        PolynomialFeatures()),\n",
       "                                       ('linear_regression',\n",
       "                                        LinearRegression())]),\n",
       "             param_grid={'polynomial_features__degree': [1, 2, 3]})"
      ]
     },
     "execution_count": 99,
     "metadata": {},
     "output_type": "execute_result"
    }
   ],
   "source": [
    "grid_pf.fit(X, y)"
   ]
  },
  {
   "cell_type": "code",
   "execution_count": 100,
   "id": "26fd3a11",
   "metadata": {},
   "outputs": [
    {
     "data": {
      "text/plain": [
       "(0.8342605963444788, {'polynomial_features__degree': 2})"
      ]
     },
     "execution_count": 100,
     "metadata": {},
     "output_type": "execute_result"
    }
   ],
   "source": [
    "grid_pf.best_score_, grid_pf.best_params_"
   ]
  },
  {
   "cell_type": "code",
   "execution_count": 101,
   "id": "08daa680",
   "metadata": {},
   "outputs": [],
   "source": [
    "y_predict_pf = grid_pf.predict(X)"
   ]
  },
  {
   "cell_type": "code",
   "execution_count": 102,
   "id": "dcf3d98e",
   "metadata": {
    "scrolled": true
   },
   "outputs": [
    {
     "data": {
      "text/plain": [
       "0.8477671718801754"
      ]
     },
     "execution_count": 102,
     "metadata": {},
     "output_type": "execute_result"
    }
   ],
   "source": [
    "# This includes both in-sample and out-of-sample\n",
    "r2_score(y, y_predict_pf)"
   ]
  },
  {
   "cell_type": "code",
   "execution_count": 103,
   "id": "71873b18",
   "metadata": {},
   "outputs": [
    {
     "data": {
      "text/plain": [
       "array([-4.36716277e+11,  3.60521179e+03,  2.01212274e+03,  9.59501849e+02,\n",
       "       -1.24027114e+14, -1.28973856e+14, -3.47313509e+13,  4.91755791e+14,\n",
       "        2.56399587e+14,  4.39009852e+14, -3.12836736e+14, -5.48534631e+12,\n",
       "        7.81076795e+02,  5.68074809e+01, -7.78716780e+01,  3.81876755e+13,\n",
       "        3.81876755e+13, -3.91516059e+13, -3.91516059e+13, -1.77082562e+14,\n",
       "       -1.77268152e+14, -1.83956223e+14, -1.77268152e+14, -2.35000287e+02,\n",
       "        2.09183162e+01, -6.24216038e+13, -6.24216038e+13, -3.72499673e+13,\n",
       "       -3.72499673e+13,  2.32681817e+13,  2.32925677e+13,  2.41713626e+13,\n",
       "        2.32925677e+13, -1.42125000e+02,  3.61426118e+12,  3.61426118e+12,\n",
       "        3.84700082e+13,  3.84700082e+13, -4.25117824e+12, -4.25563365e+12,\n",
       "       -4.41619256e+12, -4.25563365e+12, -8.08529318e+13,  7.89072338e+13,\n",
       "       -1.52241397e+14, -2.31683037e+13,  1.54783327e+14,  9.77499698e+13,\n",
       "       -4.00490846e+14, -4.81784705e+13, -7.66104656e+13, -2.53301012e+14,\n",
       "       -1.24227919e+14,  1.16702406e+14,  5.96291383e+13, -4.40049922e+14,\n",
       "       -8.62993020e+13, -2.05321911e+14,  2.51811461e+14,  6.60796506e+13,\n",
       "       -2.32392505e+14,  4.54526125e+14,  1.91894945e+14,  9.72955804e+13,\n",
       "        4.56344385e+13, -2.52859144e+14,  4.33287309e+14,  1.71428306e+14,\n",
       "        3.29945420e+14,  2.67660605e+13, -2.62971517e+14,  3.86611281e+13,\n",
       "        5.15049602e+14,  1.90658981e+14,  2.59164507e+14,  1.19638349e+15,\n",
       "        2.57788327e+14,  9.25584167e+14])"
      ]
     },
     "execution_count": 103,
     "metadata": {},
     "output_type": "execute_result"
    }
   ],
   "source": [
    "grid_pf.best_estimator_.named_steps['linear_regression'].coef_"
   ]
  },
  {
   "cell_type": "code",
   "execution_count": 104,
   "id": "08f6b9b9",
   "metadata": {},
   "outputs": [
    {
     "data": {
      "text/html": [
       "<div>\n",
       "<style scoped>\n",
       "    .dataframe tbody tr th:only-of-type {\n",
       "        vertical-align: middle;\n",
       "    }\n",
       "\n",
       "    .dataframe tbody tr th {\n",
       "        vertical-align: top;\n",
       "    }\n",
       "\n",
       "    .dataframe thead th {\n",
       "        text-align: right;\n",
       "    }\n",
       "</style>\n",
       "<table border=\"1\" class=\"dataframe\">\n",
       "  <thead>\n",
       "    <tr style=\"text-align: right;\">\n",
       "      <th></th>\n",
       "      <th>0</th>\n",
       "      <th>1</th>\n",
       "    </tr>\n",
       "  </thead>\n",
       "  <tbody>\n",
       "    <tr>\n",
       "      <th>10</th>\n",
       "      <td>region_southwest</td>\n",
       "      <td>-3.128367e+14</td>\n",
       "    </tr>\n",
       "    <tr>\n",
       "      <th>5</th>\n",
       "      <td>smoker_no</td>\n",
       "      <td>-1.289739e+14</td>\n",
       "    </tr>\n",
       "    <tr>\n",
       "      <th>4</th>\n",
       "      <td>sex_male</td>\n",
       "      <td>-1.240271e+14</td>\n",
       "    </tr>\n",
       "    <tr>\n",
       "      <th>6</th>\n",
       "      <td>smoker_yes</td>\n",
       "      <td>-3.473135e+13</td>\n",
       "    </tr>\n",
       "    <tr>\n",
       "      <th>0</th>\n",
       "      <td>age</td>\n",
       "      <td>-4.367163e+11</td>\n",
       "    </tr>\n",
       "    <tr>\n",
       "      <th>3</th>\n",
       "      <td>sex_female</td>\n",
       "      <td>9.595018e+02</td>\n",
       "    </tr>\n",
       "    <tr>\n",
       "      <th>2</th>\n",
       "      <td>children</td>\n",
       "      <td>2.012123e+03</td>\n",
       "    </tr>\n",
       "    <tr>\n",
       "      <th>1</th>\n",
       "      <td>bmi</td>\n",
       "      <td>3.605212e+03</td>\n",
       "    </tr>\n",
       "    <tr>\n",
       "      <th>8</th>\n",
       "      <td>region_northwest</td>\n",
       "      <td>2.563996e+14</td>\n",
       "    </tr>\n",
       "    <tr>\n",
       "      <th>9</th>\n",
       "      <td>region_southeast</td>\n",
       "      <td>4.390099e+14</td>\n",
       "    </tr>\n",
       "    <tr>\n",
       "      <th>7</th>\n",
       "      <td>region_northeast</td>\n",
       "      <td>4.917558e+14</td>\n",
       "    </tr>\n",
       "  </tbody>\n",
       "</table>\n",
       "</div>"
      ],
      "text/plain": [
       "                   0             1\n",
       "10  region_southwest -3.128367e+14\n",
       "5          smoker_no -1.289739e+14\n",
       "4           sex_male -1.240271e+14\n",
       "6         smoker_yes -3.473135e+13\n",
       "0                age -4.367163e+11\n",
       "3         sex_female  9.595018e+02\n",
       "2           children  2.012123e+03\n",
       "1                bmi  3.605212e+03\n",
       "8   region_northwest  2.563996e+14\n",
       "9   region_southeast  4.390099e+14\n",
       "7   region_northeast  4.917558e+14"
      ]
     },
     "execution_count": 104,
     "metadata": {},
     "output_type": "execute_result"
    }
   ],
   "source": [
    "pd.DataFrame(zip(X.columns, grid_pf.best_estimator_.named_steps['linear_regression'].coef_)).sort_values(by=1)"
   ]
  },
  {
   "cell_type": "markdown",
   "id": "5f0c3cc2",
   "metadata": {},
   "source": [
    "## Ridge Regression with cross validation"
   ]
  },
  {
   "cell_type": "code",
   "execution_count": 105,
   "id": "5dee5782",
   "metadata": {},
   "outputs": [],
   "source": [
    "# Same estimator as before\n",
    "estimator_rr = Pipeline([(\"scaler\", StandardScaler()), #Here we are putting scaler first, but it's generally best to place it after pf\n",
    "        (\"polynomial_features\", PolynomialFeatures()),\n",
    "        (\"ridge_regression\", Ridge())])\n",
    "\n",
    "params_rr = {\n",
    "    'polynomial_features__degree': [1, 2, 3],\n",
    "    'ridge_regression__alpha': np.geomspace(4, 20, 30)\n",
    "}\n",
    "\n",
    "grid_rr = GridSearchCV(estimator_rr, params_rr, cv=kf)"
   ]
  },
  {
   "cell_type": "code",
   "execution_count": 106,
   "id": "1638171b",
   "metadata": {},
   "outputs": [
    {
     "data": {
      "text/plain": [
       "GridSearchCV(cv=KFold(n_splits=3, random_state=72018, shuffle=True),\n",
       "             estimator=Pipeline(steps=[('scaler', StandardScaler()),\n",
       "                                       ('polynomial_features',\n",
       "                                        PolynomialFeatures()),\n",
       "                                       ('ridge_regression', Ridge())]),\n",
       "             param_grid={'polynomial_features__degree': [1, 2, 3],\n",
       "                         'ridge_regression__alpha': array([ 4.        ,  4.22826702,  4.46956049,  4.7246238 ,  4.99424274,\n",
       "        5.27924796,  5.58051751,  5.89897953,  6.23561514,  6.59146146,\n",
       "        6.96761476,  7.36523392,  7.78554391,  8.22983963,  8.69948987,\n",
       "        9.19594151,  9.72072404, 10.27545421, 10.86184103, 11.48169104,\n",
       "       12.13691388, 12.82952815, 13.56166768, 14.33558803, 15.15367351,\n",
       "       16.01844446, 16.93256509, 17.89885162, 18.92028098, 20.        ])})"
      ]
     },
     "execution_count": 106,
     "metadata": {},
     "output_type": "execute_result"
    }
   ],
   "source": [
    "grid_rr.fit(X, y)"
   ]
  },
  {
   "cell_type": "code",
   "execution_count": 107,
   "id": "fe04ff41",
   "metadata": {},
   "outputs": [
    {
     "data": {
      "text/plain": [
       "(0.834510584582958,\n",
       " {'polynomial_features__degree': 2, 'ridge_regression__alpha': 20.0})"
      ]
     },
     "execution_count": 107,
     "metadata": {},
     "output_type": "execute_result"
    }
   ],
   "source": [
    "grid_rr.best_score_, grid_rr.best_params_"
   ]
  },
  {
   "cell_type": "code",
   "execution_count": 108,
   "id": "1adff256",
   "metadata": {},
   "outputs": [],
   "source": [
    "y_predict_rr = grid_rr.predict(X)"
   ]
  },
  {
   "cell_type": "code",
   "execution_count": 109,
   "id": "f03e4e2d",
   "metadata": {},
   "outputs": [
    {
     "data": {
      "text/plain": [
       "0.8477297622470372"
      ]
     },
     "execution_count": 109,
     "metadata": {},
     "output_type": "execute_result"
    }
   ],
   "source": [
    "# This includes both in-sample and out-of-sample\n",
    "r2_score(y, y_predict_rr)"
   ]
  },
  {
   "cell_type": "code",
   "execution_count": 110,
   "id": "8b110f20",
   "metadata": {},
   "outputs": [
    {
     "data": {
      "text/plain": [
       "array([ 0.00000000e+00,  3.55242915e+03,  1.98524920e+03,  9.33289800e+02,\n",
       "        1.21076879e+02, -1.21076879e+02, -1.14321926e+03,  1.14321926e+03,\n",
       "        1.06873191e+02,  1.04853113e+01, -4.10329318e+01, -7.46655667e+01,\n",
       "        7.62816538e+02,  5.81733169e+01, -8.90551414e+01, -6.35327752e+01,\n",
       "        6.35327752e+01,  1.34734770e+01, -1.34734770e+01, -1.75609703e+02,\n",
       "       -7.01783748e+01,  1.44248215e+02,  9.59137321e+01, -2.32497853e+02,\n",
       "        2.43101983e+01, -1.07445935e+01,  1.07445935e+01, -1.80223449e+03,\n",
       "        1.80223449e+03,  1.52070030e+02,  1.12264016e+02, -2.11226023e+02,\n",
       "       -4.49795609e+01, -1.31664271e+02,  6.60037161e+01, -6.60037161e+01,\n",
       "        9.29921051e+01, -9.29921051e+01,  5.03444678e+01,  1.75270284e+02,\n",
       "       -6.53376904e+01, -1.57759257e+02,  2.53388505e+00, -2.53388505e+00,\n",
       "       -2.12550535e+00,  2.12550535e+00,  3.92881010e+01, -4.37560634e+00,\n",
       "       -3.90943417e+01,  5.69795251e+00,  2.53388505e+00,  2.12550535e+00,\n",
       "       -2.12550535e+00, -3.92881010e+01,  4.37560634e+00,  3.90943417e+01,\n",
       "       -5.69795251e+00,  1.67267100e+03, -1.67267100e+03, -1.34818844e+01,\n",
       "        1.70026709e+01,  8.22794719e+01, -8.89186587e+01,  1.67267100e+03,\n",
       "        1.34818844e+01, -1.70026709e+01, -8.22794719e+01,  8.89186587e+01,\n",
       "        1.28654916e+02, -6.64618857e+01, -4.21395548e+01, -1.83289159e+01,\n",
       "        1.25725497e+01,  1.68318674e+01,  3.63528446e+01, -4.20370482e+01,\n",
       "        6.88866149e+01, -8.95287253e+01])"
      ]
     },
     "execution_count": 110,
     "metadata": {},
     "output_type": "execute_result"
    }
   ],
   "source": [
    "grid_rr.best_estimator_.named_steps['ridge_regression'].coef_"
   ]
  },
  {
   "cell_type": "code",
   "execution_count": 111,
   "id": "5630a148",
   "metadata": {},
   "outputs": [
    {
     "data": {
      "text/html": [
       "<div>\n",
       "<style scoped>\n",
       "    .dataframe tbody tr th:only-of-type {\n",
       "        vertical-align: middle;\n",
       "    }\n",
       "\n",
       "    .dataframe tbody tr th {\n",
       "        vertical-align: top;\n",
       "    }\n",
       "\n",
       "    .dataframe thead th {\n",
       "        text-align: right;\n",
       "    }\n",
       "</style>\n",
       "<table border=\"1\" class=\"dataframe\">\n",
       "  <thead>\n",
       "    <tr style=\"text-align: right;\">\n",
       "      <th></th>\n",
       "      <th>0</th>\n",
       "      <th>1</th>\n",
       "    </tr>\n",
       "  </thead>\n",
       "  <tbody>\n",
       "    <tr>\n",
       "      <th>6</th>\n",
       "      <td>smoker_yes</td>\n",
       "      <td>-1143.219257</td>\n",
       "    </tr>\n",
       "    <tr>\n",
       "      <th>5</th>\n",
       "      <td>smoker_no</td>\n",
       "      <td>-121.076879</td>\n",
       "    </tr>\n",
       "    <tr>\n",
       "      <th>10</th>\n",
       "      <td>region_southwest</td>\n",
       "      <td>-41.032932</td>\n",
       "    </tr>\n",
       "    <tr>\n",
       "      <th>0</th>\n",
       "      <td>age</td>\n",
       "      <td>0.000000</td>\n",
       "    </tr>\n",
       "    <tr>\n",
       "      <th>9</th>\n",
       "      <td>region_southeast</td>\n",
       "      <td>10.485311</td>\n",
       "    </tr>\n",
       "    <tr>\n",
       "      <th>8</th>\n",
       "      <td>region_northwest</td>\n",
       "      <td>106.873191</td>\n",
       "    </tr>\n",
       "    <tr>\n",
       "      <th>4</th>\n",
       "      <td>sex_male</td>\n",
       "      <td>121.076879</td>\n",
       "    </tr>\n",
       "    <tr>\n",
       "      <th>3</th>\n",
       "      <td>sex_female</td>\n",
       "      <td>933.289800</td>\n",
       "    </tr>\n",
       "    <tr>\n",
       "      <th>7</th>\n",
       "      <td>region_northeast</td>\n",
       "      <td>1143.219257</td>\n",
       "    </tr>\n",
       "    <tr>\n",
       "      <th>2</th>\n",
       "      <td>children</td>\n",
       "      <td>1985.249203</td>\n",
       "    </tr>\n",
       "    <tr>\n",
       "      <th>1</th>\n",
       "      <td>bmi</td>\n",
       "      <td>3552.429148</td>\n",
       "    </tr>\n",
       "  </tbody>\n",
       "</table>\n",
       "</div>"
      ],
      "text/plain": [
       "                   0            1\n",
       "6         smoker_yes -1143.219257\n",
       "5          smoker_no  -121.076879\n",
       "10  region_southwest   -41.032932\n",
       "0                age     0.000000\n",
       "9   region_southeast    10.485311\n",
       "8   region_northwest   106.873191\n",
       "4           sex_male   121.076879\n",
       "3         sex_female   933.289800\n",
       "7   region_northeast  1143.219257\n",
       "2           children  1985.249203\n",
       "1                bmi  3552.429148"
      ]
     },
     "execution_count": 111,
     "metadata": {},
     "output_type": "execute_result"
    }
   ],
   "source": [
    "pd.DataFrame(zip(X.columns, grid_rr.best_estimator_.named_steps['ridge_regression'].coef_)).sort_values(by=1)"
   ]
  },
  {
   "cell_type": "markdown",
   "id": "5ae9769c",
   "metadata": {},
   "source": [
    "## Lasso Regression with cross validation"
   ]
  },
  {
   "cell_type": "code",
   "execution_count": 112,
   "id": "b517fa97",
   "metadata": {},
   "outputs": [],
   "source": [
    "# Same estimator as before\n",
    "estimator_las = Pipeline([(\"scaler\", StandardScaler()), #Here we are putting scaler first, but it's generally best to place it after pf\n",
    "        (\"polynomial_features\", PolynomialFeatures()),\n",
    "        (\"lasso_regression\", Lasso(max_iter=10000))])\n",
    "\n",
    "params_las = {\n",
    "    'polynomial_features__degree': [1, 2, 3],\n",
    "    'lasso_regression__alpha': np.geomspace(0.06, 6.0, 20)\n",
    "}\n",
    "\n",
    "grid_las = GridSearchCV(estimator_las, params_las, cv=kf)"
   ]
  },
  {
   "cell_type": "code",
   "execution_count": 113,
   "id": "927a5783",
   "metadata": {},
   "outputs": [
    {
     "data": {
      "text/plain": [
       "GridSearchCV(cv=KFold(n_splits=3, random_state=72018, shuffle=True),\n",
       "             estimator=Pipeline(steps=[('scaler', StandardScaler()),\n",
       "                                       ('polynomial_features',\n",
       "                                        PolynomialFeatures()),\n",
       "                                       ('lasso_regression',\n",
       "                                        Lasso(max_iter=10000))]),\n",
       "             param_grid={'lasso_regression__alpha': array([0.06      , 0.0764565 , 0.0974266 , 0.12414828, 0.15819905,\n",
       "       0.2015891 , 0.25687994, 0.32733569, 0.41711568, 0.53152007,\n",
       "       0.67730274, 0.86306993, 1.09978843, 1.40143288, 1.78581086,\n",
       "       2.27561411, 2.89975814, 3.69508927, 4.70855982, 6.        ]),\n",
       "                         'polynomial_features__degree': [1, 2, 3]})"
      ]
     },
     "execution_count": 113,
     "metadata": {},
     "output_type": "execute_result"
    }
   ],
   "source": [
    "grid_las.fit(X, y)"
   ]
  },
  {
   "cell_type": "code",
   "execution_count": 114,
   "id": "86278f3f",
   "metadata": {},
   "outputs": [
    {
     "data": {
      "text/plain": [
       "(0.8345974235102429,\n",
       " {'lasso_regression__alpha': 6.0, 'polynomial_features__degree': 2})"
      ]
     },
     "execution_count": 114,
     "metadata": {},
     "output_type": "execute_result"
    }
   ],
   "source": [
    "grid_las.best_score_, grid_las.best_params_"
   ]
  },
  {
   "cell_type": "code",
   "execution_count": 115,
   "id": "37608019",
   "metadata": {},
   "outputs": [],
   "source": [
    "y_predict_las = grid_las.predict(X)"
   ]
  },
  {
   "cell_type": "code",
   "execution_count": 116,
   "id": "10ca37db",
   "metadata": {},
   "outputs": [
    {
     "data": {
      "text/plain": [
       "0.8477559024215673"
      ]
     },
     "execution_count": 116,
     "metadata": {},
     "output_type": "execute_result"
    }
   ],
   "source": [
    "# This includes both in-sample and out-of-sample\n",
    "r2_score(y, y_predict_las)"
   ]
  },
  {
   "cell_type": "code",
   "execution_count": 117,
   "id": "7ccb1b39",
   "metadata": {},
   "outputs": [
    {
     "data": {
      "text/plain": [
       "array([ 0.00000000e+00,  3.60341598e+03,  2.00241594e+03,  9.40415733e+02,\n",
       "        2.39467183e+02, -4.07845158e-15, -0.00000000e+00,  0.00000000e+00,\n",
       "        0.00000000e+00,  0.00000000e+00, -0.00000000e+00, -0.00000000e+00,\n",
       "        7.67873266e+02,  5.42932885e+01, -6.79450907e+01, -1.23166040e+02,\n",
       "        5.44026947e-15,  2.11939708e+01, -1.37917508e-15, -2.62937116e+02,\n",
       "       -1.57493834e+02,  4.78361782e+01,  0.00000000e+00, -2.32199231e+02,\n",
       "        1.14803596e+01, -1.42928536e+01,  5.16303761e-11, -3.62572029e+03,\n",
       "        0.00000000e+00,  1.86080980e+02,  1.50112898e+02, -1.69593515e+02,\n",
       "       -0.00000000e+00, -1.32912559e+02,  1.25806397e+02, -4.22441170e-12,\n",
       "        1.81954078e+02, -0.00000000e+00,  1.04859246e+02,  2.28997456e+02,\n",
       "       -0.00000000e+00, -9.54347396e+01,  0.00000000e+00, -0.00000000e+00,\n",
       "       -4.22478114e+00,  3.89671988e-12,  7.76194851e+01, -0.00000000e+00,\n",
       "       -6.80532464e+01,  1.08925706e+01,  0.00000000e+00,  3.07889164e+00,\n",
       "       -4.32709978e-12, -7.24019988e-02,  0.00000000e+00,  2.38081856e+00,\n",
       "       -6.44028788e-02,  6.57379847e+03, -3.56415814e-09, -1.99545919e+01,\n",
       "        0.00000000e+00,  1.36843140e+02, -1.82560563e+02,  1.60622291e+01,\n",
       "        3.43277390e+01, -0.00000000e+00, -0.00000000e+00,  1.91556631e+01,\n",
       "        3.65929169e+02, -0.00000000e+00, -0.00000000e+00,  0.00000000e+00,\n",
       "        1.14296411e+02, -0.00000000e+00, -0.00000000e+00, -0.00000000e+00,\n",
       "        0.00000000e+00, -1.03449676e+02])"
      ]
     },
     "execution_count": 117,
     "metadata": {},
     "output_type": "execute_result"
    }
   ],
   "source": [
    "grid_las.best_estimator_.named_steps['lasso_regression'].coef_"
   ]
  },
  {
   "cell_type": "code",
   "execution_count": 118,
   "id": "a6474126",
   "metadata": {},
   "outputs": [
    {
     "data": {
      "text/html": [
       "<div>\n",
       "<style scoped>\n",
       "    .dataframe tbody tr th:only-of-type {\n",
       "        vertical-align: middle;\n",
       "    }\n",
       "\n",
       "    .dataframe tbody tr th {\n",
       "        vertical-align: top;\n",
       "    }\n",
       "\n",
       "    .dataframe thead th {\n",
       "        text-align: right;\n",
       "    }\n",
       "</style>\n",
       "<table border=\"1\" class=\"dataframe\">\n",
       "  <thead>\n",
       "    <tr style=\"text-align: right;\">\n",
       "      <th></th>\n",
       "      <th>0</th>\n",
       "      <th>1</th>\n",
       "    </tr>\n",
       "  </thead>\n",
       "  <tbody>\n",
       "    <tr>\n",
       "      <th>5</th>\n",
       "      <td>smoker_no</td>\n",
       "      <td>-4.078452e-15</td>\n",
       "    </tr>\n",
       "    <tr>\n",
       "      <th>0</th>\n",
       "      <td>age</td>\n",
       "      <td>0.000000e+00</td>\n",
       "    </tr>\n",
       "    <tr>\n",
       "      <th>6</th>\n",
       "      <td>smoker_yes</td>\n",
       "      <td>-0.000000e+00</td>\n",
       "    </tr>\n",
       "    <tr>\n",
       "      <th>7</th>\n",
       "      <td>region_northeast</td>\n",
       "      <td>0.000000e+00</td>\n",
       "    </tr>\n",
       "    <tr>\n",
       "      <th>8</th>\n",
       "      <td>region_northwest</td>\n",
       "      <td>0.000000e+00</td>\n",
       "    </tr>\n",
       "    <tr>\n",
       "      <th>9</th>\n",
       "      <td>region_southeast</td>\n",
       "      <td>0.000000e+00</td>\n",
       "    </tr>\n",
       "    <tr>\n",
       "      <th>10</th>\n",
       "      <td>region_southwest</td>\n",
       "      <td>-0.000000e+00</td>\n",
       "    </tr>\n",
       "    <tr>\n",
       "      <th>4</th>\n",
       "      <td>sex_male</td>\n",
       "      <td>2.394672e+02</td>\n",
       "    </tr>\n",
       "    <tr>\n",
       "      <th>3</th>\n",
       "      <td>sex_female</td>\n",
       "      <td>9.404157e+02</td>\n",
       "    </tr>\n",
       "    <tr>\n",
       "      <th>2</th>\n",
       "      <td>children</td>\n",
       "      <td>2.002416e+03</td>\n",
       "    </tr>\n",
       "    <tr>\n",
       "      <th>1</th>\n",
       "      <td>bmi</td>\n",
       "      <td>3.603416e+03</td>\n",
       "    </tr>\n",
       "  </tbody>\n",
       "</table>\n",
       "</div>"
      ],
      "text/plain": [
       "                   0             1\n",
       "5          smoker_no -4.078452e-15\n",
       "0                age  0.000000e+00\n",
       "6         smoker_yes -0.000000e+00\n",
       "7   region_northeast  0.000000e+00\n",
       "8   region_northwest  0.000000e+00\n",
       "9   region_southeast  0.000000e+00\n",
       "10  region_southwest -0.000000e+00\n",
       "4           sex_male  2.394672e+02\n",
       "3         sex_female  9.404157e+02\n",
       "2           children  2.002416e+03\n",
       "1                bmi  3.603416e+03"
      ]
     },
     "execution_count": 118,
     "metadata": {},
     "output_type": "execute_result"
    }
   ],
   "source": [
    "pd.DataFrame(zip(X.columns, grid_las.best_estimator_.named_steps['lasso_regression'].coef_)).sort_values(by=1)"
   ]
  },
  {
   "cell_type": "markdown",
   "id": "e643773f",
   "metadata": {},
   "source": [
    "## Visual comparison"
   ]
  },
  {
   "cell_type": "code",
   "execution_count": 119,
   "id": "ebf18092",
   "metadata": {},
   "outputs": [
    {
     "data": {
      "image/png": "[encoded data removed]",
      "text/plain": [
       "<Figure size 1080x504 with 1 Axes>"
      ]
     },
     "metadata": {},
     "output_type": "display_data"
    }
   ],
   "source": [
    "f = plt.figure(figsize=(15,7))\n",
    "ax = plt.axes()\n",
    "\n",
    "labels = ['Lin. Reg.', 'Poly. Transf.', 'Ridge', 'Lasso']\n",
    "models = [predictions, y_predict_pf ,y_predict_rr, y_predict_las]\n",
    "\n",
    "for mod, lab in zip(models, labels):\n",
    "    ax.plot(y, mod, \n",
    "             marker='o', ls='', ms=3.0, label=lab)\n",
    "\n",
    "\n",
    "leg = plt.legend(frameon=True)\n",
    "leg.get_frame().set_edgecolor('black')\n",
    "leg.get_frame().set_linewidth(1.0)\n",
    "\n",
    "ax.set(xlabel='Actual Price', \n",
    "       ylabel='Predicted Price', \n",
    "       title='Linear Regression Results');"
   ]
  },
  {
   "cell_type": "code",
   "execution_count": null,
   "id": "85d5d5a5",
   "metadata": {},
   "outputs": [],
   "source": []
  }
 ],
 "metadata": {
  "kernelspec": {
   "display_name": "Python 3",
   "language": "python",
   "name": "python3"
  },
  "language_info": {
   "codemirror_mode": {
    "name": "ipython",
    "version": 3
   },
   "file_extension": ".py",
   "mimetype": "text/x-python",
   "name": "python",
   "nbconvert_exporter": "python",
   "pygments_lexer": "ipython3",
   "version": "3.9.5"
  },
  "toc": {
   "base_numbering": 1,
   "nav_menu": {},
   "number_sections": true,
   "sideBar": true,
   "skip_h1_title": false,
   "title_cell": "Table of Contents",
   "title_sidebar": "Contents",
   "toc_cell": false,
   "toc_position": {},
   "toc_section_display": true,
   "toc_window_display": false
  }
 },
 "nbformat": 4,
 "nbformat_minor": 5
}
